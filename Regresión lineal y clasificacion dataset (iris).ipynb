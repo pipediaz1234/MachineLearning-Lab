{
 "cells": [
  {
   "cell_type": "markdown",
   "id": "83797ad8-ff86-4e4b-a822-d385dea199f4",
   "metadata": {},
   "source": [
    "# Regresión Lineal y Clasificación con el Dataset Iris\n",
    "### **Autores:**\n",
    "\n",
    "- Andrés Felipe Díaz Campos\n",
    "- Yisela Katerine Forero Silva\n",
    "\n",
    "Basado en el dataset Iris (Ronald A. Fisher, 1936)\n",
    "\n",
    "Uso de librerías de Python: NumPy, Pandas, Matplotlib, scikit-learn"
   ]
  },
  {
   "cell_type": "markdown",
   "id": "63d09978-ea08-444c-a8c1-f6d5b18f337d",
   "metadata": {},
   "source": [
    " ## **Introducción** \n",
    "\n",
    "- El dataset Iris es uno de los más utilizados en aprendizaje automático. Contiene 150 registros de flores de tres especies distintas: Setosa,   Versicolor y Virginica. Cada registro incluye 4 características: largo y ancho del sépalo, largo y ancho del pétalo.\n",
    "\n",
    "- En este trabajo utilizamos regresión lineal en dos formas diferentes:\n",
    "\n",
    "1. Regresión lineal pura: para modelar la relación entre dos variables continuas.\n",
    "\n",
    "2. Clasificación con regresión lineal: para diferenciar especies de flores, aproximando el problema como un modelo de predicción de clases."
   ]
  },
  {
   "cell_type": "code",
   "execution_count": 74,
   "id": "8e5b9ac5-2190-4ce4-b945-412e862fbe6e",
   "metadata": {},
   "outputs": [],
   "source": [
    "# Paso 1: Importar librerías\n",
    "import numpy as np\n",
    "import pandas as pd\n",
    "import matplotlib.pyplot as plt\n",
    "from sklearn import datasets\n",
    "from sklearn.linear_model import LinearRegression\n",
    "from sklearn.model_selection import train_test_split\n",
    "from sklearn.metrics import accuracy_score, confusion_matrix\n",
    "from sklearn.datasets import load_iris\n",
    "\n"
   ]
  },
  {
   "cell_type": "markdown",
   "id": "f54a1655-c4bd-4261-8129-e3e212aaf3d6",
   "metadata": {},
   "source": [
    "## Selección y visualización de ejemplos del dataset Iris\n",
    "\n",
    "En este bloque se realiza la **selección y visualización de ejemplos del dataset Iris**:\n",
    "\n",
    "1. Se importa el dataset Iris desde `sklearn.datasets` y se cargan las **características** (`X`) y la **variable objetivo** (`y`).\n",
    "2. Se crea un **DataFrame de pandas** con las características y se agrega la columna `target` que indica la especie de cada flor de forma numérica:\n",
    "   - 0 = setosa\n",
    "   - 1 = versicolor\n",
    "   - 2 = virginica\n",
    "3. para mostrar en el informe, usando filtros sobre la columna `target`.\n",
    "4. Se combinan estos ejemplos en un **nuevo DataFrame (df_examples)** y se **resetea el índice** para mantener un formato limpio.\n",
    "5. Se configuran opciones de `pandas` para que la tabla se muestre **completa, centrada y con dos decimales**, mejorando la legibilidad.\n",
    "6. Finalmente, se imprime el DataFrame resultante, mostrando **3 muestras representativas de cada especie**, lo que facilita la comprensión del dataset.\n",
    "\n",
    "\n"
   ]
  },
  {
   "cell_type": "code",
   "execution_count": 75,
   "id": "44486441-17f0-4a30-a0f9-187d82263776",
   "metadata": {},
   "outputs": [
    {
     "name": "stdout",
     "output_type": "stream",
     "text": [
      "   sepal length (cm)  sepal width (cm)  petal length (cm)  petal width (cm)  target\n",
      "0         5.1                3.5               1.4                0.2           0  \n",
      "1         4.9                3.0               1.4                0.2           0  \n",
      "2         4.7                3.2               1.3                0.2           0  \n",
      "3         7.0                3.2               4.7                1.4           1  \n",
      "4         6.4                3.2               4.5                1.5           1  \n",
      "5         6.9                3.1               4.9                1.5           1  \n",
      "6         6.3                3.3               6.0                2.5           2  \n",
      "7         5.8                2.7               5.1                1.9           2  \n",
      "8         7.1                3.0               5.9                2.1           2  \n"
     ]
    }
   ],
   "source": [
    "\n",
    "# Cargar dataset Iris\n",
    "iris = load_iris()\n",
    "X = iris.data\n",
    "y = iris.target\n",
    "columns = iris.feature_names\n",
    "\n",
    "# Crear DataFrame\n",
    "df = pd.DataFrame(X, columns=columns)\n",
    "df[\"target\"] = y  # Mantener solo target numérico\n",
    "\n",
    "# Seleccionar 3 ejemplos de cada especie\n",
    "df_examples = pd.concat([\n",
    "    df[df[\"target\"] == 0].head(3),\n",
    "    df[df[\"target\"] == 1].head(3),\n",
    "    df[df[\"target\"] == 2].head(3)\n",
    "])\n",
    "\n",
    "# Resetear índice para que se vea limpio\n",
    "df_examples = df_examples.reset_index(drop=True)\n",
    "\n",
    "# Mostrar la tabla ordenada en consola\n",
    "pd.set_option('display.max_columns', None)  # Mostrar todas las columnas\n",
    "pd.set_option('display.width', 1000)        # Ajustar ancho de la tabla\n",
    "pd.set_option('display.colheader_justify', 'center')  # Centrar los headers\n",
    "pd.set_option('display.precision', 2)       # Mostrar 2 decimales\n",
    "\n",
    "print(df_examples)\n"
   ]
  },
  {
   "cell_type": "markdown",
   "id": "49845c39-4017-49b6-ba8e-84e8d7e613ec",
   "metadata": {},
   "source": [
    "## División del dataset Iris en entrenamiento y prueba\n",
    "\n",
    "En este bloque de código se realiza la **carga y preparación del dataset Iris** para su posterior análisis:\n",
    "\n",
    "1. Se importan las librerías necesarias:\n",
    "   - `pandas` para manejar y visualizar los datos en forma de DataFrames.\n",
    "   - `load_iris` de `sklearn.datasets` para cargar el dataset Iris.\n",
    "   - `train_test_split` de `sklearn.model_selection` para dividir los datos en conjuntos de entrenamiento y prueba.\n",
    "\n",
    "2. Se carga el dataset Iris y se separan las **características** (`X`) y la **variable objetivo** (`y`). Además, se obtienen los nombres de las columnas (`columns`).\n",
    "\n",
    "3. Se divide el dataset en dos partes:\n",
    "   - **70%** para entrenamiento (`X_train`, `y_train`)\n",
    "   - **30%** para prueba (`X_test`, `y_test`)  \n",
    "   El parámetro `random_state=42` asegura que la división sea **reproducible**.\n",
    "\n",
    "4. Se crean **DataFrames de pandas** (`df_X_train` y `df_X_test`) para mostrar de manera clara algunas filas de los conjuntos de entrenamiento y prueba.\n",
    "\n",
    "5. Finalmente, se imprime:\n",
    "   - Un **mini DataFrame** con las primeras 5 filas de `X_train` y `X_test` para ilustrar los datos.\n",
    "   - La **cantidad de muestras** en cada conjunto, permitiendo verificar que la división se realizó correctamente.\n",
    "\n"
   ]
  },
  {
   "cell_type": "code",
   "execution_count": 64,
   "id": "398351da-8ff6-41ff-8388-9fa9e5570699",
   "metadata": {},
   "outputs": [
    {
     "name": "stdout",
     "output_type": "stream",
     "text": [
      "Mini DataFrame de X_train:\n",
      "   sepal length (cm)  sepal width (cm)  petal length (cm)  petal width (cm)\n",
      "0                5.5               2.4                3.7               1.0\n",
      "1                6.3               2.8                5.1               1.5\n",
      "2                6.4               3.1                5.5               1.8\n",
      "3                6.6               3.0                4.4               1.4\n",
      "4                7.2               3.6                6.1               2.5 \n",
      "\n",
      "Mini DataFrame de X_test:\n",
      "   sepal length (cm)  sepal width (cm)  petal length (cm)  petal width (cm)\n",
      "0                6.1               2.8                4.7               1.2\n",
      "1                5.7               3.8                1.7               0.3\n",
      "2                7.7               2.6                6.9               2.3\n",
      "3                6.0               2.9                4.5               1.5\n",
      "4                6.8               2.8                4.8               1.4\n",
      "Tamaño del conjunto de entrenamiento: 105\n",
      "Tamaño del conjunto de prueba: 45\n"
     ]
    }
   ],
   "source": [
    "import pandas as pd\n",
    "from sklearn.datasets import load_iris\n",
    "from sklearn.model_selection import train_test_split\n",
    "\n",
    "# Cargar dataset Iris\n",
    "iris = load_iris()\n",
    "X = iris.data\n",
    "y = iris.target\n",
    "columns = iris.feature_names\n",
    "\n",
    "# División del dataset\n",
    "X_train, X_test, y_train, y_test = train_test_split(\n",
    "    X, y, test_size=0.3, random_state=42\n",
    ")\n",
    "\n",
    "# Crear DataFrames para mostrar en el informe\n",
    "df_X_train = pd.DataFrame(X_train, columns=columns)\n",
    "df_X_test = pd.DataFrame(X_test, columns=columns)\n",
    "\n",
    "# Mostrar primeras 5 filas de cada conjunto\n",
    "print(\"Mini DataFrame de X_train:\")\n",
    "print(df_X_train.head(), \"\\n\")\n",
    "\n",
    "print(\"Mini DataFrame de X_test:\")\n",
    "print(df_X_test.head())\n",
    "\n",
    "# Mostrar la cantidad de muestras en cada grupo\n",
    "print(\"Tamaño del conjunto de entrenamiento:\", X_train.shape[0])\n",
    "print(\"Tamaño del conjunto de prueba:\", X_test.shape[0])\n",
    "\n"
   ]
  },
  {
   "cell_type": "markdown",
   "id": "8566880d-54be-47b2-93d3-c183f1beaecc",
   "metadata": {},
   "source": [
    "##Entrenamiento y predicción con Regresión Lineal\n",
    "\n",
    "En este paso se entrena el **modelo de regresión lineal** utilizando los datos de entrenamiento (`X_train`, `y_train`).  \n",
    "Una vez entrenado, el modelo se usa para **predecir la especie de flores** con los datos de prueba (`X_test`).  \n",
    "\n",
    "El modelo devuelve valores continuos, pero como necesitamos **clases enteras (0, 1, 2)** que representen las especies de Iris, se redondean los resultados (`np.round`) para convertirlos en categorías:  \n",
    "\n",
    "- **0 → Setosa**  \n",
    "- **1 → Versicolor**  \n",
    "- **2 → Virginica**  \n",
    "\n",
    "Luego, se muestran las primeras 10 predicciones en una tabla donde aparece la clase numérica y el nombre de la especie asignada.  \n",
    "\n",
    " En conclusión:  \n",
    "Esta parte del código se utiliza para **entrenar el modelo, generar predicciones y traducirlas a especies de flores**, lo que permite comprobar de manera clara cómo está funcionando el modelo.  \n"
   ]
  },
  {
   "cell_type": "code",
   "execution_count": 57,
   "id": "cc51aa1d-266a-4019-b74d-0fabc0600e26",
   "metadata": {},
   "outputs": [
    {
     "name": "stdout",
     "output_type": "stream",
     "text": [
      " Primeras 10 predicciones del modelo:\n",
      "\n",
      " Predicción (Clase) Especie asignada\n",
      "                  1       Versicolor\n",
      "                  0           Setosa\n",
      "                  2        Virginica\n",
      "                  1       Versicolor\n",
      "                  1       Versicolor\n",
      "                  0           Setosa\n",
      "                  1       Versicolor\n",
      "                  2        Virginica\n",
      "                  1       Versicolor\n",
      "                  1       Versicolor\n",
      "Predicciones: [1 0 2 1 1 0 1 2 1 1]\n"
     ]
    }
   ],
   "source": [
    "\n",
    "# Paso 4: Entrenamiento y predicción con Regresión Lineal\n",
    "\n",
    "from sklearn.linear_model import LinearRegression\n",
    "\n",
    "\n",
    "# 1. Crear el modelo\n",
    "model = LinearRegression()\n",
    "\n",
    "# 2. Entrenar con los datos de entrenamiento\n",
    "model.fit(X_train, y_train)\n",
    "\n",
    "# 3. Realizar predicciones sobre los datos de prueba\n",
    "y_pred = model.predict(X_test)\n",
    "\n",
    "# 4. Redondear a enteros para obtener las clases (0 = Setosa, 1 = Versicolor, 2 = Virginica)\n",
    "y_pred_class = np.round(y_pred).astype(int)\n",
    "\n",
    "# 5. Mostrar las primeras 10 predicciones de forma más clara\n",
    "# Crear un DataFrame con predicciones y sus nombres de especie\n",
    "species_map = {0: \"Setosa\", 1: \"Versicolor\", 2: \"Virginica\"}\n",
    "\n",
    "pred_df = pd.DataFrame({\n",
    "    \"Predicción (Clase)\": y_pred_class[:10],\n",
    "    \"Especie asignada\": [species_map[i] for i in y_pred_class[:10]]\n",
    "})\n",
    "\n",
    "print(\" Primeras 10 predicciones del modelo:\\n\")\n",
    "print(pred_df.to_string(index=False))\n",
    "print(\"Predicciones:\", y_pred_class[:10])\n"
   ]
  },
  {
   "cell_type": "code",
   "execution_count": 47,
   "id": "582c5593-370a-4594-b9c8-360408644d88",
   "metadata": {},
   "outputs": [
    {
     "name": "stdout",
     "output_type": "stream",
     "text": [
      "Accuracy: 1.0\n",
      "\n",
      "Matriz de confusión:\n",
      "                   Setosa (Pred)  Versicolor (Pred)  Virginica (Pred)\n",
      "Setosa (Real)                 19                  0                 0\n",
      "Versicolor (Real)              0                 13                 0\n",
      "Virginica (Real)               0                  0                13\n"
     ]
    }
   ],
   "source": [
    "# Paso 5: Evaluación del modelo\n",
    "# Calcular métricas\n",
    "acc = accuracy_score(y_test, y_pred_class)\n",
    "cm = confusion_matrix(y_test, y_pred_class)\n",
    "\n",
    "# Mostrar accuracy\n",
    "print(\"Accuracy:\", round(acc, 3))\n",
    "\n",
    "# Convertir matriz de confusión a DataFrame\n",
    "cm_df = pd.DataFrame(cm, \n",
    "                     index=[\"Setosa (Real)\", \"Versicolor (Real)\", \"Virginica (Real)\"],\n",
    "                     columns=[\"Setosa (Pred)\", \"Versicolor (Pred)\", \"Virginica (Pred)\"])\n",
    "\n",
    "print(\"\\nMatriz de confusión:\")\n",
    "print(cm_df)\n"
   ]
  },
  {
   "cell_type": "markdown",
   "id": "3bde876d-5890-4a2b-b72d-cfae4d11f837",
   "metadata": {},
   "source": [
    "##  ¿Por qué usamos la matriz de confusión?\n",
    "\n",
    "La **precisión (Accuracy)** solo nos da un número general del desempeño del modelo.  \n",
    "\n",
    "La **matriz de confusión** nos permite ver en detalle dónde se equivoca el modelo:  \n",
    "-  Cuántos aciertos tiene en cada clase.  \n",
    "-  Cuáles clases confunde entre sí.  \n",
    "\n",
    "Es muy útil cuando trabajamos con varios tipos de flores (**Setosa, Versicolor y Virginica**), porque podemos identificar qué especies el modelo clasifica peor.  \n",
    "\n",
    "\n",
    "\n",
    "###  En conclusión:\n",
    "- **Accuracy** = resumen global.  \n",
    "- **Matriz de confusión** = análisis detallado por clase.  \n"
   ]
  },
  {
   "cell_type": "code",
   "execution_count": 48,
   "id": "172049ce-1fd9-46ed-b03f-d150a1fe20a9",
   "metadata": {},
   "outputs": [
    {
     "data": {
      "image/png": "[encoded data removed]",
      "text/plain": [
       "<Figure size 800x600 with 1 Axes>"
      ]
     },
     "metadata": {},
     "output_type": "display_data"
    },
    {
     "name": "stdout",
     "output_type": "stream",
     "text": [
      "Coeficiente(m) (pendiente ): 1.858\n",
      "Intercepto (b) (ordenada en el origen): -7.101\n"
     ]
    }
   ],
   "source": [
    "# Crear la gráfica\n",
    "plt.figure(figsize=(8, 6))  # Ajustar tamaño\n",
    "\n",
    "# Puntos reales\n",
    "plt.scatter(X, y, color=\"blue\", alpha=0.6, edgecolors=\"k\", label=\"Datos reales\")\n",
    "\n",
    "# Recta de regresión\n",
    "plt.plot(X, y_pred, color=\"red\", linewidth=2.5, label=\"Recta de regresión\")\n",
    "\n",
    "# Mejoras visuales\n",
    "plt.xlabel(\"Largo del sépalo (cm)\", fontsize=12)\n",
    "plt.ylabel(\"Largo del pétalo (cm)\", fontsize=12)\n",
    "plt.title(\" Regresión Lineal - Relación entre sépalo y pétalo\", fontsize=14, fontweight=\"bold\")\n",
    "plt.legend()\n",
    "plt.grid(True, linestyle=\"--\", alpha=0.6)\n",
    "plt.show()\n",
    "# ======================\n",
    "# Mostrar coeficientes\n",
    "# ======================\n",
    "print(\"Coeficiente(m) (pendiente ):\", round(model.coef_[0], 3))\n",
    "print(\"Intercepto (b) (ordenada en el origen):\", round(model.intercept_, 3))\n"
   ]
  },
  {
   "cell_type": "markdown",
   "id": "ea16ca01-bb24-42e3-83cd-733c983b670c",
   "metadata": {},
   "source": [
    "# Explicación de la gráfica de Regresión Lineal (Dataset Iris)\n",
    "\n",
    "La siguiente gráfica representa el resultado de aplicar **regresión lineal simple** al dataset **Iris**, relacionando el **largo del sépalo (cm)** con el **largo del pétalo (cm)**.\n",
    "\n",
    "\n",
    "## Elementos de la gráfica\n",
    "\n",
    "1. **Datos reales (azules con borde negro):**  \n",
    "   Los puntos dispersos muestran las observaciones reales del dataset.  \n",
    "   - Eje X → Largo del sépalo (cm)  \n",
    "   - Eje Y → Largo del pétalo (cm)  \n",
    "   - Nos permiten ver cómo cambia el pétalo en función del sépalo.\n",
    "\n",
    "2. **Recta de regresión (línea roja):**  \n",
    "   La línea roja corresponde al modelo de **regresión lineal** entrenado con los datos.  \n",
    "   Se expresa con la ecuación:\n",
    "\n",
    "   \\[\n",
    "              y^​=m⋅x+b\n",
    "   \\]\n",
    "\n",
    "   Donde:  \n",
    "   - \\( m \\) = pendiente → cuánto crece el pétalo por cada cm adicional del sépalo.  \n",
    "   - \\( b \\) = intercepto → valor estimado del pétalo cuando el sépalo es 0 (valor teórico).  \n",
    "\n",
    "## Interpretación\n",
    "\n",
    "- La pendiente indica que **a mayor largo del sépalo, el largo del pétalo también tiende a aumentar**.  \n",
    "- El intercepto, aunque no tenga un significado biológico directo, es importante para la ecuación matemática del modelo.  \n",
    "- La recta no pasa por todos los puntos, pero refleja la **tendencia central** de los datos.\n",
    "\n",
    "\n",
    "## Conclusión\n",
    "\n",
    "La gráfica muestra que existe una **relación lineal positiva** entre el largo del sépalo y el largo del pétalo en las flores del dataset Iris.  \n",
    "El modelo de regresión lineal permite cuantificar esa relación y visualizarla de manera clara con la línea roja.\n",
    "\n"
   ]
  },
  {
   "cell_type": "code",
   "execution_count": null,
   "id": "2724b6f5-8019-4e6f-8440-dad94922b98d",
   "metadata": {},
   "outputs": [],
   "source": []
  }
 ],
 "metadata": {
  "kernelspec": {
   "display_name": "Python 3 (ipykernel)",
   "language": "python",
   "name": "python3"
  },
  "language_info": {
   "codemirror_mode": {
    "name": "ipython",
    "version": 3
   },
   "file_extension": ".py",
   "mimetype": "text/x-python",
   "name": "python",
   "nbconvert_exporter": "python",
   "pygments_lexer": "ipython3",
   "version": "3.12.6"
  }
 },
 "nbformat": 4,
 "nbformat_minor": 5
}
